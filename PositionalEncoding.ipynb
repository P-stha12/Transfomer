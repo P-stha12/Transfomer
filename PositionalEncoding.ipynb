{
  "nbformat": 4,
  "nbformat_minor": 0,
  "metadata": {
    "colab": {
      "provenance": []
    },
    "kernelspec": {
      "name": "python3",
      "display_name": "Python 3"
    },
    "language_info": {
      "name": "python"
    }
  },
  "cells": [
    {
      "cell_type": "code",
      "execution_count": 1,
      "metadata": {
        "id": "p6AKOmZHBnZt"
      },
      "outputs": [],
      "source": [
        "import tensorflow as tf"
      ]
    },
    {
      "cell_type": "code",
      "source": [
        "batch_size = 1\n",
        "max_seqlen = 200\n",
        "d_model = 512\n",
        "n_heads = 8"
      ],
      "metadata": {
        "id": "JdVNxuyoBr0z"
      },
      "execution_count": 2,
      "outputs": []
    },
    {
      "cell_type": "code",
      "source": [
        "class PositionalEncoding:\n",
        "  def __init__(self, max_seqlen, d_model):\n",
        "    self.max_seqlen = max_seqlen\n",
        "    self.d_model = d_model\n",
        "\n",
        "  def call(self):\n",
        "    even_indices = tf.range(0, self.d_model, 2, dtype=tf.float32)\n",
        "    den = tf.math.pow(10000, 2*even_indices/self.d_model)\n",
        "    pos = tf.reshape(tf.range(0, self.max_seqlen, 1, dtype=tf.float32), (self.max_seqlen, 1))\n",
        "    even_pos = tf.math.sin(pos/den)\n",
        "    odd_pos = tf.math.cos(pos/den)\n",
        "    pos = tf.stack([even_pos, odd_pos], axis=2)\n",
        "    pos = tf.reshape(pos, (self.max_seqlen, self.d_model))\n",
        "    return pos"
      ],
      "metadata": {
        "id": "K6iGuXHjBr_S"
      },
      "execution_count": 3,
      "outputs": []
    },
    {
      "cell_type": "code",
      "source": [
        "pe = PositionalEncoding(10, 6)\n",
        "pe.call()"
      ],
      "metadata": {
        "colab": {
          "base_uri": "https://localhost:8080/"
        },
        "id": "iv4_RK0-CBl_",
        "outputId": "48b81f0b-6db1-4e7c-c11e-6ec0dc10547f"
      },
      "execution_count": 4,
      "outputs": [
        {
          "output_type": "execute_result",
          "data": {
            "text/plain": [
              "<tf.Tensor: shape=(10, 6), dtype=float32, numpy=\n",
              "array([[ 0.0000000e+00,  1.0000000e+00,  0.0000000e+00,  1.0000000e+00,\n",
              "         0.0000000e+00,  1.0000000e+00],\n",
              "       [ 8.4147096e-01,  5.4030228e-01,  2.1544327e-03,  9.9999768e-01,\n",
              "         4.6415871e-06,  1.0000000e+00],\n",
              "       [ 9.0929741e-01, -4.1614681e-01,  4.3088552e-03,  9.9999070e-01,\n",
              "         9.2831742e-06,  1.0000000e+00],\n",
              "       [ 1.4112000e-01, -9.8999250e-01,  6.4632576e-03,  9.9997914e-01,\n",
              "         1.3924761e-05,  1.0000000e+00],\n",
              "       [-7.5680250e-01, -6.5364361e-01,  8.6176302e-03,  9.9996287e-01,\n",
              "         1.8566348e-05,  1.0000000e+00],\n",
              "       [-9.5892429e-01,  2.8366217e-01,  1.0771963e-02,  9.9994200e-01,\n",
              "         2.3207936e-05,  1.0000000e+00],\n",
              "       [-2.7941549e-01,  9.6017027e-01,  1.2926245e-02,  9.9991643e-01,\n",
              "         2.7849523e-05,  1.0000000e+00],\n",
              "       [ 6.5698659e-01,  7.5390226e-01,  1.5080469e-02,  9.9988627e-01,\n",
              "         3.2491109e-05,  1.0000000e+00],\n",
              "       [ 9.8935825e-01, -1.4550003e-01,  1.7234622e-02,  9.9985147e-01,\n",
              "         3.7132697e-05,  1.0000000e+00],\n",
              "       [ 4.1211849e-01, -9.1113025e-01,  1.9388694e-02,  9.9981201e-01,\n",
              "         4.1774285e-05,  1.0000000e+00]], dtype=float32)>"
            ]
          },
          "metadata": {},
          "execution_count": 4
        }
      ]
    }
  ]
}